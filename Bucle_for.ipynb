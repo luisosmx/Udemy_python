{
  "nbformat": 4,
  "nbformat_minor": 0,
  "metadata": {
    "colab": {
      "provenance": [],
      "authorship_tag": "ABX9TyOcuSGHPX8/GJCWm/+JP9fx",
      "include_colab_link": true
    },
    "kernelspec": {
      "name": "python3",
      "display_name": "Python 3"
    },
    "language_info": {
      "name": "python"
    }
  },
  "cells": [
    {
      "cell_type": "markdown",
      "metadata": {
        "id": "view-in-github",
        "colab_type": "text"
      },
      "source": [
        "<a href=\"https://colab.research.google.com/github/luisosmx/Udemy_python/blob/main/Bucle_for.ipynb\" target=\"_parent\"><img src=\"https://colab.research.google.com/assets/colab-badge.svg\" alt=\"Open In Colab\"/></a>"
      ]
    },
    {
      "cell_type": "code",
      "execution_count": null,
      "metadata": {
        "id": "-2DIqc5WxsP9"
      },
      "outputs": [],
      "source": [
        "lista = [\n",
        "    \"Esto es un texto\", #cadena\n",
        "    (1,5,10,15,20,25), #tupla\n",
        "    [\"Azul\", \"Verde\", \"Amarillo\"] #lista\n",
        "]"
      ]
    },
    {
      "cell_type": "code",
      "source": [
        "for coleccion in lista:\n",
        "  print(coleccion)"
      ],
      "metadata": {
        "colab": {
          "base_uri": "https://localhost:8080/"
        },
        "id": "3SBCET4myLd0",
        "outputId": "3e3becaf-0bca-4b02-feea-a6970e92e5be"
      },
      "execution_count": null,
      "outputs": [
        {
          "output_type": "stream",
          "name": "stdout",
          "text": [
            "Esto es un texto\n",
            "(1, 5, 10, 15, 20, 25)\n",
            "['Azul', 'Verde', 'Amarillo']\n"
          ]
        }
      ]
    },
    {
      "cell_type": "code",
      "source": [
        "for coleccion in lista:\n",
        "  for elemento in coleccion:\n",
        "    print(coleccion, \"->\", elemento)"
      ],
      "metadata": {
        "colab": {
          "base_uri": "https://localhost:8080/"
        },
        "id": "c1iynIeoyTBu",
        "outputId": "a51e25fe-8c8f-4067-dfcf-6fc8113485ad"
      },
      "execution_count": null,
      "outputs": [
        {
          "output_type": "stream",
          "name": "stdout",
          "text": [
            "Esto es un texto -> E\n",
            "Esto es un texto -> s\n",
            "Esto es un texto -> t\n",
            "Esto es un texto -> o\n",
            "Esto es un texto ->  \n",
            "Esto es un texto -> e\n",
            "Esto es un texto -> s\n",
            "Esto es un texto ->  \n",
            "Esto es un texto -> u\n",
            "Esto es un texto -> n\n",
            "Esto es un texto ->  \n",
            "Esto es un texto -> t\n",
            "Esto es un texto -> e\n",
            "Esto es un texto -> x\n",
            "Esto es un texto -> t\n",
            "Esto es un texto -> o\n",
            "(1, 5, 10, 15, 20, 25) -> 1\n",
            "(1, 5, 10, 15, 20, 25) -> 5\n",
            "(1, 5, 10, 15, 20, 25) -> 10\n",
            "(1, 5, 10, 15, 20, 25) -> 15\n",
            "(1, 5, 10, 15, 20, 25) -> 20\n",
            "(1, 5, 10, 15, 20, 25) -> 25\n",
            "['Azul', 'Verde', 'Amarillo'] -> Azul\n",
            "['Azul', 'Verde', 'Amarillo'] -> Verde\n",
            "['Azul', 'Verde', 'Amarillo'] -> Amarillo\n"
          ]
        }
      ]
    },
    {
      "cell_type": "code",
      "source": [
        "for indice_coleccion, coleccion in enumerate(lista):\n",
        "  for indice_elemento, elemento in enumerate(coleccion):\n",
        "    print(lista[indice_coleccion][indice_elemento])"
      ],
      "metadata": {
        "id": "wmfCSoXYyskD",
        "colab": {
          "base_uri": "https://localhost:8080/"
        },
        "outputId": "58737a44-e3df-40c2-8503-4aea82777d86"
      },
      "execution_count": null,
      "outputs": [
        {
          "output_type": "stream",
          "name": "stdout",
          "text": [
            "E\n",
            "s\n",
            "t\n",
            "o\n",
            " \n",
            "e\n",
            "s\n",
            " \n",
            "u\n",
            "n\n",
            " \n",
            "t\n",
            "e\n",
            "x\n",
            "t\n",
            "o\n",
            "1\n",
            "5\n",
            "10\n",
            "15\n",
            "20\n",
            "25\n",
            "Azul\n",
            "Verde\n",
            "Amarillo\n"
          ]
        }
      ]
    },
    {
      "cell_type": "code",
      "source": [
        "tabla = [\n",
        "  [0,0,0],\n",
        "  [1,1,1],\n",
        "  [2,2,2]\n",
        "]\n",
        "for fila in tabla:\n",
        "  for columna in fila:\n",
        "    print(columna)"
      ],
      "metadata": {
        "colab": {
          "base_uri": "https://localhost:8080/"
        },
        "id": "EhnTge_q1qcf",
        "outputId": "cc09f503-96e9-4786-a68c-4dcdc7cb04d7"
      },
      "execution_count": null,
      "outputs": [
        {
          "output_type": "stream",
          "name": "stdout",
          "text": [
            "0\n",
            "0\n",
            "0\n",
            "1\n",
            "1\n",
            "1\n",
            "2\n",
            "2\n",
            "2\n"
          ]
        }
      ]
    },
    {
      "cell_type": "code",
      "source": [
        "for fila in tabla:\n",
        "  for columna in fila:\n",
        "    print(columna, end=\" \")"
      ],
      "metadata": {
        "colab": {
          "base_uri": "https://localhost:8080/"
        },
        "id": "VWievhr93A9E",
        "outputId": "f09629f2-b469-4058-8494-4b532d4b4731"
      },
      "execution_count": null,
      "outputs": [
        {
          "output_type": "stream",
          "name": "stdout",
          "text": [
            "0 0 0 1 1 1 2 2 2 "
          ]
        }
      ]
    },
    {
      "cell_type": "code",
      "source": [
        "for fila in tabla:\n",
        "  for columna in fila:\n",
        "    print(columna, end=\" \")\n",
        "  print()"
      ],
      "metadata": {
        "colab": {
          "base_uri": "https://localhost:8080/"
        },
        "id": "1hC2mC2X3krm",
        "outputId": "d8beb1b2-7120-4b9a-9e94-b83f9ab62bfa"
      },
      "execution_count": null,
      "outputs": [
        {
          "output_type": "stream",
          "name": "stdout",
          "text": [
            "0 0 0 \n",
            "1 1 1 \n",
            "2 2 2 \n"
          ]
        }
      ]
    },
    {
      "cell_type": "code",
      "source": [
        "for i,fila in enumerate(tabla):\n",
        "  for j, columna in enumerate(fila):\n",
        "    print(tabla[i][j], end=\" \")\n",
        "  print()"
      ],
      "metadata": {
        "colab": {
          "base_uri": "https://localhost:8080/"
        },
        "id": "47YS9d1E3pWN",
        "outputId": "a2aad6b4-2082-4f7f-ef76-bd9a4807662f"
      },
      "execution_count": null,
      "outputs": [
        {
          "output_type": "stream",
          "name": "stdout",
          "text": [
            "0 0 0 \n",
            "1 1 1 \n",
            "2 2 2 \n"
          ]
        }
      ]
    },
    {
      "cell_type": "code",
      "source": [
        "tabla = [\n",
        "  [0,0,0],\n",
        "  [1,1,1],\n",
        "  [2,2,2]\n",
        "]\n",
        "cubo = [\n",
        "    tabla, tabla, tabla\n",
        "]"
      ],
      "metadata": {
        "id": "nttI5RSE4z_Z"
      },
      "execution_count": null,
      "outputs": []
    },
    {
      "cell_type": "code",
      "source": [
        "print(cubo[0][0][0])"
      ],
      "metadata": {
        "colab": {
          "base_uri": "https://localhost:8080/"
        },
        "id": "AAwkZmym5dxM",
        "outputId": "896e38ab-03c0-43a6-b1d6-8a73ed0505fd"
      },
      "execution_count": null,
      "outputs": [
        {
          "output_type": "stream",
          "name": "stdout",
          "text": [
            "0\n"
          ]
        }
      ]
    },
    {
      "cell_type": "code",
      "source": [
        "print(cubo[2][1][2])"
      ],
      "metadata": {
        "colab": {
          "base_uri": "https://localhost:8080/"
        },
        "id": "-SpBgsP35j26",
        "outputId": "da5f6433-80a0-4db8-fe1a-884097f84f7d"
      },
      "execution_count": null,
      "outputs": [
        {
          "output_type": "stream",
          "name": "stdout",
          "text": [
            "1\n"
          ]
        }
      ]
    },
    {
      "cell_type": "code",
      "source": [
        "for tabla in cubo:\n",
        "  for fila in tabla:\n",
        "    for columna in fila:\n",
        "      print(columna)"
      ],
      "metadata": {
        "colab": {
          "base_uri": "https://localhost:8080/"
        },
        "id": "PH2Q0nuk6Ex2",
        "outputId": "8eb468fa-48f9-44be-cd1a-5e746912e836"
      },
      "execution_count": null,
      "outputs": [
        {
          "output_type": "stream",
          "name": "stdout",
          "text": [
            "0\n",
            "0\n",
            "0\n",
            "1\n",
            "1\n",
            "1\n",
            "2\n",
            "2\n",
            "2\n",
            "0\n",
            "0\n",
            "0\n",
            "1\n",
            "1\n",
            "1\n",
            "2\n",
            "2\n",
            "2\n",
            "0\n",
            "0\n",
            "0\n",
            "1\n",
            "1\n",
            "1\n",
            "2\n",
            "2\n",
            "2\n"
          ]
        }
      ]
    },
    {
      "cell_type": "code",
      "source": [
        "for k, tabla in enumerate(cubo):\n",
        "  for i, fila in enumerate(tabla):\n",
        "    for j, columna in enumerate(fila):\n",
        "      print(cubo[k][i][j], end=\" \")\n",
        "    print()\n",
        "  print()"
      ],
      "metadata": {
        "colab": {
          "base_uri": "https://localhost:8080/"
        },
        "id": "8QzSU69u7Ru8",
        "outputId": "8ef74613-fde1-4655-c852-a75b2b171fa0"
      },
      "execution_count": null,
      "outputs": [
        {
          "output_type": "stream",
          "name": "stdout",
          "text": [
            "0 0 0 \n",
            "1 1 1 \n",
            "2 2 2 \n",
            "\n",
            "0 0 0 \n",
            "1 1 1 \n",
            "2 2 2 \n",
            "\n",
            "0 0 0 \n",
            "1 1 1 \n",
            "2 2 2 \n",
            "\n"
          ]
        }
      ]
    },
    {
      "cell_type": "code",
      "source": [
        "matriz = [\n",
        "    [8,  7,  0],\n",
        "    [34, 2, -1],\n",
        "    [5, -5, 12]\n",
        "]"
      ],
      "metadata": {
        "id": "PwYK-UHq-RrM"
      },
      "execution_count": null,
      "outputs": []
    },
    {
      "cell_type": "code",
      "source": [
        "# Primero recorremos todas las filas de la matriz con un for\n",
        "# Necesitamos usar un enumerador para poder guardar su índice de fila\n",
        "for i, fila in enumerate(matriz):\n",
        "    # Dentro de cada fila recorremos cada columna con otro for\n",
        "    # Necesitamos usar un enumerador para poder guardar su índice de columna\n",
        "    for j, columna in enumerate(fila):\n",
        "        # A partir de ambos índices podemos comprobar la celda actual\n",
        "        # Si es par asignamos a la celda un 0\n",
        "        if matriz[i][j] % 2 == 0:\n",
        "            matriz[i][j] = 0\n",
        "        # En caso contrario, si es impar, le asignamos un 1\n",
        "        else:\n",
        "            matriz[i][j] = 1\n",
        "            print(matriz[i][j], end=\" \")"
      ],
      "metadata": {
        "colab": {
          "base_uri": "https://localhost:8080/"
        },
        "id": "uyj7jMNV71Sb",
        "outputId": "0078dc09-981a-4f87-a724-eab1b8c07523"
      },
      "execution_count": null,
      "outputs": [
        {
          "output_type": "stream",
          "name": "stdout",
          "text": [
            "1 1 1 1 "
          ]
        }
      ]
    },
    {
      "cell_type": "code",
      "source": [
        "lista = [\n",
        "    \"hola\",\n",
        "    [1,2]\n",
        "]"
      ],
      "metadata": {
        "id": "kUTVo0Tv-ZV7"
      },
      "execution_count": 15,
      "outputs": []
    },
    {
      "cell_type": "code",
      "source": [
        "type(lista)\n"
      ],
      "metadata": {
        "colab": {
          "base_uri": "https://localhost:8080/"
        },
        "id": "JboiQlvRDxkV",
        "outputId": "0b972bb7-d6dc-469b-8ca5-3c596fef67c8"
      },
      "execution_count": 14,
      "outputs": [
        {
          "output_type": "execute_result",
          "data": {
            "text/plain": [
              "list"
            ]
          },
          "metadata": {},
          "execution_count": 14
        }
      ]
    },
    {
      "cell_type": "code",
      "source": [
        "for element in lista:\n",
        "  for element_2 in element:\n",
        "    print(element_2)"
      ],
      "metadata": {
        "colab": {
          "base_uri": "https://localhost:8080/"
        },
        "id": "MfqP3OqFC1hU",
        "outputId": "f3dc4c56-b07b-448d-ce10-b8384cec9a1b"
      },
      "execution_count": 17,
      "outputs": [
        {
          "output_type": "stream",
          "name": "stdout",
          "text": [
            "h\n",
            "o\n",
            "l\n",
            "a\n",
            "1\n",
            "2\n"
          ]
        }
      ]
    },
    {
      "cell_type": "code",
      "source": [
        "type(element)\n",
        "    \n",
        "  "
      ],
      "metadata": {
        "colab": {
          "base_uri": "https://localhost:8080/"
        },
        "id": "GO3xIzdTC-aN",
        "outputId": "dafe1fcf-cba2-4c83-c70f-b7fc4f7158ef"
      },
      "execution_count": 11,
      "outputs": [
        {
          "output_type": "execute_result",
          "data": {
            "text/plain": [
              "list"
            ]
          },
          "metadata": {},
          "execution_count": 11
        }
      ]
    },
    {
      "cell_type": "code",
      "source": [
        "lista = [\n",
        "    1,\n",
        "    \"Hola\",\n",
        "    [2,3],\n",
        "    (4,5)\n",
        "]"
      ],
      "metadata": {
        "id": "nfbPZiJ0DFO0"
      },
      "execution_count": 1,
      "outputs": []
    },
    {
      "cell_type": "code",
      "source": [
        "for elemen in lista:\n",
        "  if type(elemen) == \"list\":\n",
        "    print[elemen[0] + elemen[1]]\n",
        "  elif type(elemen) == \"str\":\n",
        "    print(len(elemen))\n",
        "  elif type(elemen) == \"tuple\":\n",
        "    elemen_1 = list(elemen)"
      ],
      "metadata": {
        "id": "G9G6QXNhQaKS"
      },
      "execution_count": 6,
      "outputs": []
    },
    {
      "cell_type": "code",
      "source": [],
      "metadata": {
        "id": "GmREfFg0Rmo2"
      },
      "execution_count": 5,
      "outputs": []
    }
  ]
}